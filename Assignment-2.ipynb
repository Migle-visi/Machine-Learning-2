{
  "cells": [
    {
      "cell_type": "code",
      "execution_count": 35,
      "metadata": {
        "id": "3wuoRXdf6X4I"
      },
      "outputs": [],
      "source": [
        "import keras\n",
        "import tensorflow as tf\n",
        "import numpy as np\n",
        "from keras import layers\n",
        "from keras import ops\n",
        "import matplotlib.pyplot as plt\n",
        "import os"
      ]
    },
    {
      "cell_type": "code",
      "execution_count": 36,
      "metadata": {
        "colab": {
          "base_uri": "https://localhost:8080/"
        },
        "id": "_ksGNgK0cVCl",
        "outputId": "eeeb2aa4-ad57-4087-9464-d4dbd4d9735e"
      },
      "outputs": [
        {
          "output_type": "stream",
          "name": "stdout",
          "text": [
            "Drive already mounted at /content/drive; to attempt to forcibly remount, call drive.mount(\"/content/drive\", force_remount=True).\n"
          ]
        }
      ],
      "source": [
        "from google.colab import drive\n",
        "\n",
        "# Mount Google Drive\n",
        "drive.mount('/content/drive')\n",
        "\n",
        "# Load the .npy file\n",
        "X = np.load('/content/drive/MyDrive/Colab Notebooks/x_letters.npy')\n",
        "y = np.load('/content/drive/MyDrive/Colab Notebooks/y_letters.npy')\n"
      ]
    },
    {
      "cell_type": "code",
      "execution_count": 37,
      "metadata": {
        "id": "v433xHohLgiC"
      },
      "outputs": [],
      "source": [
        "# Converting data to respectively float32 and int64\n",
        "X = X.astype(np.float32)\n",
        "y = y.astype(np.int64)\n",
        "\n",
        "y = keras.utils.to_categorical(y, 26)\n",
        "n_classes = y.shape[1]"
      ]
    },
    {
      "cell_type": "code",
      "execution_count": 38,
      "metadata": {
        "colab": {
          "base_uri": "https://localhost:8080/",
          "height": 385
        },
        "id": "lcvOkE0p3sLg",
        "outputId": "ed814200-b0d3-40d3-f452-180123bff1fc"
      },
      "outputs": [
        {
          "output_type": "display_data",
          "data": {
            "text/plain": [
              "<Figure size 500x500 with 10 Axes>"
            ],
            "image/png": "[encoded data removed]"
          },
          "metadata": {}
        }
      ],
      "source": [
        "#Lets check how the handwritten letters look like in the dataset\n",
        "\n",
        "def plot_sample_letters(X, num_samples):\n",
        "\n",
        "    plt.figure(figsize=(5, 5))\n",
        "    indices = np.random.choice(len(X), num_samples, replace=False)  # Randomly select indices\n",
        "    for i, idx in enumerate(indices):\n",
        "        plt.subplot(4, 4, i + 1)  # Create a 4x4 grid\n",
        "        plt.imshow(X[idx].reshape(28, 28), cmap='gray')  # Reshape and plot the letter\n",
        "        plt.axis('off')  # Hide axes\n",
        "    plt.tight_layout()\n",
        "    plt.show()\n",
        "\n",
        "# Call the function to plot sample letters\n",
        "plot_sample_letters(X, num_samples=10)"
      ]
    },
    {
      "cell_type": "code",
      "execution_count": 39,
      "metadata": {
        "colab": {
          "base_uri": "https://localhost:8080/"
        },
        "id": "La3ADDuYwMSL",
        "outputId": "90893d49-aa11-4855-80bc-baa9ee38f820"
      },
      "outputs": [
        {
          "output_type": "execute_result",
          "data": {
            "text/plain": [
              "((88799, 28, 28), (88799, 26))"
            ]
          },
          "metadata": {},
          "execution_count": 39
        }
      ],
      "source": [
        "X.shape, y.shape"
      ]
    },
    {
      "cell_type": "code",
      "execution_count": 40,
      "metadata": {
        "id": "RMh1Ups6wdAa"
      },
      "outputs": [],
      "source": [
        "batch_size = 32\n",
        "latent_dim = 32"
      ]
    },
    {
      "cell_type": "code",
      "execution_count": 41,
      "metadata": {
        "id": "DXB7OM19wO2d"
      },
      "outputs": [],
      "source": [
        "# We are combining X and y into singular tensorflow dataset\n",
        "# because the data is ordered (all examples of 0, then all examples of 1, etc.), we need to shuffle it, so our splits contain all classes\n",
        "dataset = tf.data.Dataset.from_tensor_slices((X, y))\n",
        "dataset = dataset.shuffle(buffer_size=1000, reshuffle_each_iteration=True).batch(64)"
      ]
    },
    {
      "cell_type": "code",
      "execution_count": 42,
      "metadata": {
        "id": "L9LRatA9AF65"
      },
      "outputs": [],
      "source": [
        "class GAN(keras.Model):\n",
        "    def __init__(self, discriminator, generator, latent_dim):\n",
        "        super().__init__()\n",
        "        self.discriminator = discriminator\n",
        "        self.generator = generator\n",
        "        self.latent_dim = latent_dim\n",
        "        self.seed_generator = keras.random.SeedGenerator(1337)\n",
        "        # Initialize lists to store loss values\n",
        "        self.d_loss_history = []\n",
        "        self.g_loss_history = []\n",
        "\n",
        "    def compile(self, d_optimizer, g_optimizer, loss_fn):\n",
        "        super().compile()\n",
        "        self.d_optimizer = d_optimizer\n",
        "        self.g_optimizer = g_optimizer\n",
        "        self.loss_fn = loss_fn\n",
        "        self.d_loss_metric = keras.metrics.Mean(name=\"d_loss\")\n",
        "        self.g_loss_metric = keras.metrics.Mean(name=\"g_loss\")\n",
        "\n",
        "    @property\n",
        "    def metrics(self):\n",
        "        return [self.d_loss_metric, self.g_loss_metric]\n",
        "\n",
        "    def train_step(self, data):\n",
        "\n",
        "        # Custom training loop for a single step of training the GAN.\n",
        "        # Unpack the real images and corresponding classes from the input data.\n",
        "\n",
        "        real_images, real_classes = data\n",
        "        batch_size = ops.shape(real_images)[0]\n",
        "        random_latent_vectors = keras.random.normal(\n",
        "            shape=(batch_size, self.latent_dim),\n",
        "            seed = self.seed_generator\n",
        "        )\n",
        "\n",
        "        # Generate fake images from the random latent vectors and real classes.\n",
        "        generated_images = self.generator([random_latent_vectors, real_classes])\n",
        "\n",
        "        # Combine the generated images with the real images for discriminator training.\n",
        "        combined_images = ops.concatenate([generated_images, real_images], axis=0)\n",
        "        combined_classes = ops.concatenate([real_classes, real_classes], axis=0)\n",
        "\n",
        "        # Assemble labels discriminating real from fake images\n",
        "        labels = ops.concatenate(\n",
        "            [ops.ones((batch_size, 1)), ops.zeros((batch_size, 1))], axis=0\n",
        "        )\n",
        "\n",
        "        #Added noise makes sure the discriminator is not perfect, so that the generator never has a chance to learn\n",
        "        labels += 0.05 * tf.random.uniform(tf.shape(labels))\n",
        "\n",
        "        # Train the discriminator\n",
        "        with tf.GradientTape() as tape:\n",
        "            predictions = self.discriminator([combined_images, combined_classes])\n",
        "            d_loss = self.loss_fn(labels, predictions)\n",
        "        grads = tape.gradient(d_loss, self.discriminator.trainable_weights)\n",
        "        self.d_optimizer.apply_gradients(\n",
        "            zip(grads, self.discriminator.trainable_weights)\n",
        "        )\n",
        "\n",
        "        # Sample random points in the latent space\n",
        "        random_latent_vectors = keras.random.normal(\n",
        "            shape=(batch_size, self.latent_dim),\n",
        "            seed = self.seed_generator\n",
        "        )\n",
        "\n",
        "        # Assemble misleading labels for generator training\n",
        "        misleading_labels = ops.zeros((batch_size, 1))\n",
        "\n",
        "        # Train the generator (without updating the discriminator)\n",
        "        with tf.GradientTape() as tape:\n",
        "            generated_images = self.generator([random_latent_vectors, real_classes])\n",
        "            predictions = self.discriminator([generated_images, real_classes])\n",
        "            g_loss = self.loss_fn(misleading_labels, predictions)\n",
        "        grads = tape.gradient(g_loss, self.generator.trainable_weights)\n",
        "        self.g_optimizer.apply_gradients(zip(grads, self.generator.trainable_weights))\n",
        "\n",
        "        # Update metrics\n",
        "        self.d_loss_metric.update_state(d_loss)\n",
        "        self.g_loss_metric.update_state(g_loss)\n",
        "\n",
        "        # Store the loss values for plotting later\n",
        "        self.d_loss_history.append(self.d_loss_metric.result().numpy())\n",
        "        self.g_loss_history.append(self.g_loss_metric.result().numpy())\n",
        "        return {\n",
        "            \"d_loss\": self.d_loss_metric.result(),\n",
        "            \"g_loss\": self.g_loss_metric.result(),\n",
        "        }\n",
        "\n",
        "    def plot_loss_history(self):\n",
        "        # Plot the evolution of D-Loss and G-Loss\n",
        "        plt.figure(figsize=(10, 5))\n",
        "        plt.plot(self.d_loss_history, label=\"D-Loss\")\n",
        "        plt.plot(self.g_loss_history, label=\"G-Loss\")\n",
        "        plt.title(\"D-Loss and G-Loss over epochs\")\n",
        "        plt.xlabel(\"Epochs\")\n",
        "        plt.ylabel(\"Loss\")\n",
        "        plt.legend()\n",
        "        plt.show()"
      ]
    },
    {
      "cell_type": "code",
      "execution_count": 43,
      "metadata": {
        "id": "uAnzjqHHwo1p"
      },
      "outputs": [],
      "source": [
        "def build_generator():\n",
        "    noise_input = keras.Input(shape=(latent_dim,))\n",
        "    label_input = keras.Input(shape=(n_classes,))\n",
        "\n",
        "    #noise and label inputs are concatenated together\n",
        "    #this allows to produce a variety of images based on the given labels\n",
        "    x = layers.Concatenate(axis=-1)([noise_input, label_input])\n",
        "\n",
        "    x = layers.Dense(100, activation=\"relu\", kernel_initializer=\"he_normal\")(x)\n",
        "    x = layers.Dense(150, activation=\"relu\", kernel_initializer=\"he_normal\")(x)\n",
        "    #Sigmoid as to avoid Loss on the Determinator due to the dataset being black and white\n",
        "    x = layers.Dense(28*28, activation=\"sigmoid\")(x)\n",
        "    output = layers.Reshape((28, 28))(x)\n",
        "\n",
        "    return keras.Model([noise_input, label_input], output, name=\"generator\")\n",
        "\n",
        "def build_discriminator():\n",
        "    image_input = keras.Input(shape=(28, 28))\n",
        "    label_input = keras.Input(shape=(n_classes,))\n",
        "\n",
        "    #flattening the image input to transform the 2D data into 1D vector, making it suitable for connected layers\n",
        "    x = layers.Flatten()(image_input)\n",
        "\n",
        "    #Concatenation allows to use both image and class to make predictions\n",
        "    x = layers.Concatenate(axis=-1)([x, label_input])\n",
        "    x = layers.Dense(150, activation=\"relu\", kernel_initializer=\"he_normal\")(x)\n",
        "    x = layers.Dense(100, activation=\"relu\", kernel_initializer=\"he_normal\")(x)\n",
        "\n",
        "    #using sigmoid activation produces a value between 0 and 1, that indicates the probability of the\n",
        "    #input being fake (0) or real image (1)\n",
        "    output = layers.Dense(1, activation=\"sigmoid\")(x)\n",
        "\n",
        "    return keras.Model([image_input, label_input], output, name=\"discriminator\")\n"
      ]
    },
    {
      "cell_type": "code",
      "execution_count": 44,
      "metadata": {
        "id": "MZqhXS2Pwp3S"
      },
      "outputs": [],
      "source": [
        "generator = build_generator()\n",
        "discriminator = build_discriminator()\n",
        "\n",
        "epochs = 30\n",
        "\n",
        "gan = GAN(discriminator=discriminator, generator=generator, latent_dim=latent_dim)\n",
        "gan.compile(\n",
        "    d_optimizer=keras.optimizers.RMSprop(learning_rate=0.001),\n",
        "    g_optimizer=keras.optimizers.RMSprop(learning_rate=0.003),\n",
        "    loss_fn=keras.losses.BinaryCrossentropy(),\n",
        ")"
      ]
    },
    {
      "cell_type": "code",
      "execution_count": 45,
      "metadata": {
        "colab": {
          "base_uri": "https://localhost:8080/"
        },
        "id": "wUWYJlRXwrfJ",
        "outputId": "47957e6c-d0f6-4be9-cfe1-44a0e820a94f"
      },
      "outputs": [
        {
          "output_type": "stream",
          "name": "stdout",
          "text": [
            "Epoch 1/30\n",
            "\u001b[1m1388/1388\u001b[0m \u001b[32m━━━━━━━━━━━━━━━━━━━━\u001b[0m\u001b[37m\u001b[0m \u001b[1m164s\u001b[0m 118ms/step - d_loss: 0.6309 - g_loss: 1.7859\n",
            "Epoch 2/30\n",
            "\u001b[1m1388/1388\u001b[0m \u001b[32m━━━━━━━━━━━━━━━━━━━━\u001b[0m\u001b[37m\u001b[0m \u001b[1m161s\u001b[0m 116ms/step - d_loss: 0.5398 - g_loss: 1.7069\n",
            "Epoch 3/30\n",
            "\u001b[1m1388/1388\u001b[0m \u001b[32m━━━━━━━━━━━━━━━━━━━━\u001b[0m\u001b[37m\u001b[0m \u001b[1m204s\u001b[0m 117ms/step - d_loss: 0.4843 - g_loss: 1.7611\n",
            "Epoch 4/30\n",
            "\u001b[1m1388/1388\u001b[0m \u001b[32m━━━━━━━━━━━━━━━━━━━━\u001b[0m\u001b[37m\u001b[0m \u001b[1m201s\u001b[0m 117ms/step - d_loss: 0.4468 - g_loss: 1.9721\n",
            "Epoch 5/30\n",
            "\u001b[1m1388/1388\u001b[0m \u001b[32m━━━━━━━━━━━━━━━━━━━━\u001b[0m\u001b[37m\u001b[0m \u001b[1m203s\u001b[0m 118ms/step - d_loss: 0.4402 - g_loss: 2.0185\n",
            "Epoch 6/30\n",
            "\u001b[1m1388/1388\u001b[0m \u001b[32m━━━━━━━━━━━━━━━━━━━━\u001b[0m\u001b[37m\u001b[0m \u001b[1m163s\u001b[0m 118ms/step - d_loss: 0.4250 - g_loss: 2.0801\n",
            "Epoch 7/30\n",
            "\u001b[1m1388/1388\u001b[0m \u001b[32m━━━━━━━━━━━━━━━━━━━━\u001b[0m\u001b[37m\u001b[0m \u001b[1m202s\u001b[0m 118ms/step - d_loss: 0.4180 - g_loss: 2.1373\n",
            "Epoch 8/30\n",
            "\u001b[1m1388/1388\u001b[0m \u001b[32m━━━━━━━━━━━━━━━━━━━━\u001b[0m\u001b[37m\u001b[0m \u001b[1m205s\u001b[0m 120ms/step - d_loss: 0.4065 - g_loss: 2.2699\n",
            "Epoch 9/30\n",
            "\u001b[1m1388/1388\u001b[0m \u001b[32m━━━━━━━━━━━━━━━━━━━━\u001b[0m\u001b[37m\u001b[0m \u001b[1m202s\u001b[0m 120ms/step - d_loss: 0.4089 - g_loss: 2.2021\n",
            "Epoch 10/30\n",
            "\u001b[1m1388/1388\u001b[0m \u001b[32m━━━━━━━━━━━━━━━━━━━━\u001b[0m\u001b[37m\u001b[0m \u001b[1m199s\u001b[0m 119ms/step - d_loss: 0.4000 - g_loss: 2.2422\n",
            "Epoch 11/30\n",
            "\u001b[1m1388/1388\u001b[0m \u001b[32m━━━━━━━━━━━━━━━━━━━━\u001b[0m\u001b[37m\u001b[0m \u001b[1m170s\u001b[0m 122ms/step - d_loss: 0.3982 - g_loss: 2.2709\n",
            "Epoch 12/30\n",
            "\u001b[1m1388/1388\u001b[0m \u001b[32m━━━━━━━━━━━━━━━━━━━━\u001b[0m\u001b[37m\u001b[0m \u001b[1m165s\u001b[0m 119ms/step - d_loss: 0.4006 - g_loss: 2.2648\n",
            "Epoch 13/30\n",
            "\u001b[1m1388/1388\u001b[0m \u001b[32m━━━━━━━━━━━━━━━━━━━━\u001b[0m\u001b[37m\u001b[0m \u001b[1m161s\u001b[0m 116ms/step - d_loss: 0.3858 - g_loss: 2.3406\n",
            "Epoch 14/30\n",
            "\u001b[1m1388/1388\u001b[0m \u001b[32m━━━━━━━━━━━━━━━━━━━━\u001b[0m\u001b[37m\u001b[0m \u001b[1m200s\u001b[0m 115ms/step - d_loss: 0.3836 - g_loss: 2.3935\n",
            "Epoch 15/30\n",
            "\u001b[1m1388/1388\u001b[0m \u001b[32m━━━━━━━━━━━━━━━━━━━━\u001b[0m\u001b[37m\u001b[0m \u001b[1m205s\u001b[0m 117ms/step - d_loss: 0.3844 - g_loss: 2.4059\n",
            "Epoch 16/30\n",
            "\u001b[1m1388/1388\u001b[0m \u001b[32m━━━━━━━━━━━━━━━━━━━━\u001b[0m\u001b[37m\u001b[0m \u001b[1m160s\u001b[0m 115ms/step - d_loss: 0.3784 - g_loss: 2.4375\n",
            "Epoch 17/30\n",
            "\u001b[1m1388/1388\u001b[0m \u001b[32m━━━━━━━━━━━━━━━━━━━━\u001b[0m\u001b[37m\u001b[0m \u001b[1m200s\u001b[0m 114ms/step - d_loss: 0.3742 - g_loss: 2.4643\n",
            "Epoch 18/30\n",
            "\u001b[1m1388/1388\u001b[0m \u001b[32m━━━━━━━━━━━━━━━━━━━━\u001b[0m\u001b[37m\u001b[0m \u001b[1m157s\u001b[0m 113ms/step - d_loss: 0.3762 - g_loss: 2.4502\n",
            "Epoch 19/30\n",
            "\u001b[1m1388/1388\u001b[0m \u001b[32m━━━━━━━━━━━━━━━━━━━━\u001b[0m\u001b[37m\u001b[0m \u001b[1m161s\u001b[0m 116ms/step - d_loss: 0.3757 - g_loss: 2.4811\n",
            "Epoch 20/30\n",
            "\u001b[1m1388/1388\u001b[0m \u001b[32m━━━━━━━━━━━━━━━━━━━━\u001b[0m\u001b[37m\u001b[0m \u001b[1m203s\u001b[0m 117ms/step - d_loss: 0.3704 - g_loss: 2.4693\n",
            "Epoch 21/30\n",
            "\u001b[1m1388/1388\u001b[0m \u001b[32m━━━━━━━━━━━━━━━━━━━━\u001b[0m\u001b[37m\u001b[0m \u001b[1m199s\u001b[0m 115ms/step - d_loss: 0.3674 - g_loss: 2.4902\n",
            "Epoch 22/30\n",
            "\u001b[1m1388/1388\u001b[0m \u001b[32m━━━━━━━━━━━━━━━━━━━━\u001b[0m\u001b[37m\u001b[0m \u001b[1m160s\u001b[0m 115ms/step - d_loss: 0.3651 - g_loss: 2.4994\n",
            "Epoch 23/30\n",
            "\u001b[1m1388/1388\u001b[0m \u001b[32m━━━━━━━━━━━━━━━━━━━━\u001b[0m\u001b[37m\u001b[0m \u001b[1m203s\u001b[0m 116ms/step - d_loss: 0.3622 - g_loss: 2.5234\n",
            "Epoch 24/30\n",
            "\u001b[1m1388/1388\u001b[0m \u001b[32m━━━━━━━━━━━━━━━━━━━━\u001b[0m\u001b[37m\u001b[0m \u001b[1m163s\u001b[0m 117ms/step - d_loss: 0.3648 - g_loss: 2.5117\n",
            "Epoch 25/30\n",
            "\u001b[1m1388/1388\u001b[0m \u001b[32m━━━━━━━━━━━━━━━━━━━━\u001b[0m\u001b[37m\u001b[0m \u001b[1m200s\u001b[0m 116ms/step - d_loss: 0.3623 - g_loss: 2.5373\n",
            "Epoch 26/30\n",
            "\u001b[1m1388/1388\u001b[0m \u001b[32m━━━━━━━━━━━━━━━━━━━━\u001b[0m\u001b[37m\u001b[0m \u001b[1m197s\u001b[0m 112ms/step - d_loss: 0.3639 - g_loss: 2.4965\n",
            "Epoch 27/30\n",
            "\u001b[1m1388/1388\u001b[0m \u001b[32m━━━━━━━━━━━━━━━━━━━━\u001b[0m\u001b[37m\u001b[0m \u001b[1m158s\u001b[0m 114ms/step - d_loss: 0.3692 - g_loss: 2.4627\n",
            "Epoch 28/30\n",
            "\u001b[1m1388/1388\u001b[0m \u001b[32m━━━━━━━━━━━━━━━━━━━━\u001b[0m\u001b[37m\u001b[0m \u001b[1m202s\u001b[0m 114ms/step - d_loss: 0.3748 - g_loss: 2.4384\n",
            "Epoch 29/30\n",
            "\u001b[1m1388/1388\u001b[0m \u001b[32m━━━━━━━━━━━━━━━━━━━━\u001b[0m\u001b[37m\u001b[0m \u001b[1m201s\u001b[0m 113ms/step - d_loss: 0.3689 - g_loss: 2.4353\n",
            "Epoch 30/30\n",
            "\u001b[1m1388/1388\u001b[0m \u001b[32m━━━━━━━━━━━━━━━━━━━━\u001b[0m\u001b[37m\u001b[0m \u001b[1m158s\u001b[0m 114ms/step - d_loss: 0.3681 - g_loss: 2.4694\n"
          ]
        },
        {
          "output_type": "execute_result",
          "data": {
            "text/plain": [
              "<keras.src.callbacks.history.History at 0x7b35294930d0>"
            ]
          },
          "metadata": {},
          "execution_count": 45
        }
      ],
      "source": [
        "tf.config.run_functions_eagerly(True)\n",
        "gan.fit(dataset, epochs=epochs)"
      ]
    },
    {
      "cell_type": "code",
      "execution_count": 46,
      "metadata": {
        "colab": {
          "base_uri": "https://localhost:8080/",
          "height": 487
        },
        "id": "Bsmf1bRqosJi",
        "outputId": "9dcf0bde-939e-4a81-addf-8cd04f347058"
      },
      "outputs": [
        {
          "output_type": "display_data",
          "data": {
            "text/plain": [
              "<Figure size 1000x500 with 1 Axes>"
            ],
            "image/png": "[encoded data removed]"
          },
          "metadata": {}
        }
      ],
      "source": [
        "# After training, you can plot the loss history:\n",
        "gan.plot_loss_history()"
      ]
    },
    {
      "cell_type": "code",
      "execution_count": 47,
      "metadata": {
        "id": "3DMtbTfqwzFp"
      },
      "outputs": [],
      "source": [
        "MAPPING_TABLE = {chr(i + 97): i for i in range(26)}  # Creates a mapping from 'a' to 'z' to 0-25\n",
        "\n",
        "def generate_letter(letter):\n",
        "    # Get the mapped index for the letter\n",
        "    mapped_letter = MAPPING_TABLE[letter]\n",
        "\n",
        "    # Generate random latent vector and one-hot label\n",
        "    random_latent_vectors = tf.random.normal(shape=(1, latent_dim))\n",
        "    one_hot_label = tf.one_hot(mapped_letter, depth=len(MAPPING_TABLE))  # Using len(MAPPING_TABLE) for number of classes\n",
        "\n",
        "    # Generate images using the generator\n",
        "    generated_images = gan.generator([random_latent_vectors, one_hot_label[tf.newaxis]])  # tf.newaxis adds an extra dimension\n",
        "    return generated_images[0].numpy()  # Return the generated image as a numpy array\n"
      ]
    },
    {
      "cell_type": "code",
      "execution_count": 48,
      "metadata": {
        "id": "uONs5WcFwzvs"
      },
      "outputs": [],
      "source": [
        "def plot_string(word):\n",
        "\n",
        "  fig, ax = plt.subplots(1, len(word), figsize=(len(word)*2, 2))\n",
        "  for i in range(len(word)):\n",
        "    generated_letter = generate_letter(word[i])\n",
        "    ax[i].imshow(generated_letter, cmap='gray')\n",
        "    ax[i].axis('off')\n",
        "\n",
        "  plt.subplots_adjust(wspace=0, hspace=0)\n",
        "  plt.show()"
      ]
    },
    {
      "cell_type": "code",
      "execution_count": 49,
      "metadata": {
        "colab": {
          "base_uri": "https://localhost:8080/",
          "height": 191
        },
        "id": "bmlRKtcdw1pm",
        "outputId": "47d2d265-09e2-4a1c-9e1c-93d22fe6baea"
      },
      "outputs": [
        {
          "output_type": "display_data",
          "data": {
            "text/plain": [
              "<Figure size 1000x200 with 5 Axes>"
            ],
            "image/png": "[encoded data removed]"
          },
          "metadata": {}
        }
      ],
      "source": [
        "plot_string(\"crazy\")"
      ]
    },
    {
      "cell_type": "code",
      "execution_count": 58,
      "metadata": {
        "colab": {
          "base_uri": "https://localhost:8080/",
          "height": 191
        },
        "id": "JUgxMFMhzomi",
        "outputId": "de86358a-f448-435c-ec8a-0fb2745038ee"
      },
      "outputs": [
        {
          "output_type": "display_data",
          "data": {
            "text/plain": [
              "<Figure size 1400x200 with 7 Axes>"
            ],
            "image/png": "[encoded data removed]"
          },
          "metadata": {}
        }
      ],
      "source": [
        "plot_string(\"machine\")"
      ]
    }
  ],
  "metadata": {
    "accelerator": "GPU",
    "colab": {
      "gpuType": "T4",
      "machine_shape": "hm",
      "provenance": []
    },
    "kernelspec": {
      "display_name": "Python 3",
      "name": "python3"
    },
    "language_info": {
      "name": "python"
    }
  },
  "nbformat": 4,
  "nbformat_minor": 0
}